{
 "cells": [
  {
   "cell_type": "markdown",
   "metadata": {},
   "source": [
    "# Titanic Dataset Analysis with Pandas\n",
    "\n",
    "This notebook demonstrates essential pandas methods using the famous Titanic dataset. We'll explore various data manipulation and analysis techniques including:\n",
    "\n",
    "- **groupby**: Grouping data for aggregation\n",
    "- **query**: Filtering data with expressions\n",
    "- **agg**: Applying multiple aggregation functions\n",
    "- **sort_values**: Sorting data\n",
    "- **iloc**: Integer-based indexing\n",
    "- **loc**: Label-based indexing\n",
    "- And many more pandas methods!\n",
    "\n",
    "Let's start by loading the necessary libraries and the dataset."
   ]
  },
  {
   "cell_type": "code",
   "execution_count": 1,
   "metadata": {},
   "outputs": [
    {
     "name": "stdout",
     "output_type": "stream",
     "text": [
      "Libraries imported successfully!\n"
     ]
    }
   ],
   "source": [
    "import pandas as pd\n",
    "import numpy as np\n",
    "import matplotlib.pyplot as plt\n",
    "import seaborn as sns\n",
    "\n",
    "# Display options for better output\n",
    "pd.set_option('display.max_columns', None)\n",
    "pd.set_option('display.width', None)\n",
    "print(\"Libraries imported successfully!\")"
   ]
  },
  {
   "cell_type": "markdown",
   "metadata": {},
   "source": [
    "## 1. Loading and Initial Exploration of the Dataset\n",
    "\n",
    "First, let's load the Titanic dataset and get familiar with its structure."
   ]
  },
  {
   "cell_type": "code",
   "execution_count": 2,
   "metadata": {},
   "outputs": [
    {
     "name": "stdout",
     "output_type": "stream",
     "text": [
      "Dataset loaded successfully!\n",
      "Shape of the dataset: (891, 12)\n"
     ]
    }
   ],
   "source": [
    "# Load the Titanic dataset\n",
    "df = pd.read_csv('datasets/Titanic-Dataset.csv')\n",
    "\n",
    "print(\"Dataset loaded successfully!\")\n",
    "print(f\"Shape of the dataset: {df.shape}\")"
   ]
  },
  {
   "cell_type": "code",
   "execution_count": null,
   "metadata": {},
   "outputs": [
    {
     "name": "stdout",
     "output_type": "stream",
     "text": [
      "First 5 rows of the dataset:\n"
     ]
    },
    {
     "data": {
      "text/html": [
       "<div>\n",
       "<style scoped>\n",
       "    .dataframe tbody tr th:only-of-type {\n",
       "        vertical-align: middle;\n",
       "    }\n",
       "\n",
       "    .dataframe tbody tr th {\n",
       "        vertical-align: top;\n",
       "    }\n",
       "\n",
       "    .dataframe thead th {\n",
       "        text-align: right;\n",
       "    }\n",
       "</style>\n",
       "<table border=\"1\" class=\"dataframe\">\n",
       "  <thead>\n",
       "    <tr style=\"text-align: right;\">\n",
       "      <th></th>\n",
       "      <th>PassengerId</th>\n",
       "      <th>Survived</th>\n",
       "      <th>Pclass</th>\n",
       "      <th>Name</th>\n",
       "      <th>Sex</th>\n",
       "      <th>Age</th>\n",
       "      <th>SibSp</th>\n",
       "      <th>Parch</th>\n",
       "      <th>Ticket</th>\n",
       "      <th>Fare</th>\n",
       "      <th>Cabin</th>\n",
       "      <th>Embarked</th>\n",
       "    </tr>\n",
       "  </thead>\n",
       "  <tbody>\n",
       "    <tr>\n",
       "      <th>0</th>\n",
       "      <td>1</td>\n",
       "      <td>0</td>\n",
       "      <td>3</td>\n",
       "      <td>Braund, Mr. Owen Harris</td>\n",
       "      <td>male</td>\n",
       "      <td>22.0</td>\n",
       "      <td>1</td>\n",
       "      <td>0</td>\n",
       "      <td>A/5 21171</td>\n",
       "      <td>7.2500</td>\n",
       "      <td>NaN</td>\n",
       "      <td>S</td>\n",
       "    </tr>\n",
       "    <tr>\n",
       "      <th>1</th>\n",
       "      <td>2</td>\n",
       "      <td>1</td>\n",
       "      <td>1</td>\n",
       "      <td>Cumings, Mrs. John Bradley (Florence Briggs Th...</td>\n",
       "      <td>female</td>\n",
       "      <td>38.0</td>\n",
       "      <td>1</td>\n",
       "      <td>0</td>\n",
       "      <td>PC 17599</td>\n",
       "      <td>71.2833</td>\n",
       "      <td>C85</td>\n",
       "      <td>C</td>\n",
       "    </tr>\n",
       "    <tr>\n",
       "      <th>2</th>\n",
       "      <td>3</td>\n",
       "      <td>1</td>\n",
       "      <td>3</td>\n",
       "      <td>Heikkinen, Miss. Laina</td>\n",
       "      <td>female</td>\n",
       "      <td>26.0</td>\n",
       "      <td>0</td>\n",
       "      <td>0</td>\n",
       "      <td>STON/O2. 3101282</td>\n",
       "      <td>7.9250</td>\n",
       "      <td>NaN</td>\n",
       "      <td>S</td>\n",
       "    </tr>\n",
       "    <tr>\n",
       "      <th>3</th>\n",
       "      <td>4</td>\n",
       "      <td>1</td>\n",
       "      <td>1</td>\n",
       "      <td>Futrelle, Mrs. Jacques Heath (Lily May Peel)</td>\n",
       "      <td>female</td>\n",
       "      <td>35.0</td>\n",
       "      <td>1</td>\n",
       "      <td>0</td>\n",
       "      <td>113803</td>\n",
       "      <td>53.1000</td>\n",
       "      <td>C123</td>\n",
       "      <td>S</td>\n",
       "    </tr>\n",
       "    <tr>\n",
       "      <th>4</th>\n",
       "      <td>5</td>\n",
       "      <td>0</td>\n",
       "      <td>3</td>\n",
       "      <td>Allen, Mr. William Henry</td>\n",
       "      <td>male</td>\n",
       "      <td>35.0</td>\n",
       "      <td>0</td>\n",
       "      <td>0</td>\n",
       "      <td>373450</td>\n",
       "      <td>8.0500</td>\n",
       "      <td>NaN</td>\n",
       "      <td>S</td>\n",
       "    </tr>\n",
       "  </tbody>\n",
       "</table>\n",
       "</div>"
      ],
      "text/plain": [
       "   PassengerId  Survived  Pclass  \\\n",
       "0            1         0       3   \n",
       "1            2         1       1   \n",
       "2            3         1       3   \n",
       "3            4         1       1   \n",
       "4            5         0       3   \n",
       "\n",
       "                                                Name     Sex   Age  SibSp  \\\n",
       "0                            Braund, Mr. Owen Harris    male  22.0      1   \n",
       "1  Cumings, Mrs. John Bradley (Florence Briggs Th...  female  38.0      1   \n",
       "2                             Heikkinen, Miss. Laina  female  26.0      0   \n",
       "3       Futrelle, Mrs. Jacques Heath (Lily May Peel)  female  35.0      1   \n",
       "4                           Allen, Mr. William Henry    male  35.0      0   \n",
       "\n",
       "   Parch            Ticket     Fare Cabin Embarked  \n",
       "0      0         A/5 21171   7.2500   NaN        S  \n",
       "1      0          PC 17599  71.2833   C85        C  \n",
       "2      0  STON/O2. 3101282   7.9250   NaN        S  \n",
       "3      0            113803  53.1000  C123        S  \n",
       "4      0            373450   8.0500   NaN        S  "
      ]
     },
     "execution_count": 3,
     "metadata": {},
     "output_type": "execute_result"
    }
   ],
   "source": [
    "# Display first few rows\n",
    "print(\"First 5 rows of the dataset:\")\n",
    "df.head() "
   ]
  },
  {
   "cell_type": "code",
   "execution_count": 4,
   "metadata": {},
   "outputs": [
    {
     "data": {
      "text/plain": [
       "Index(['PassengerId', 'Survived', 'Pclass', 'Name', 'Sex', 'Age', 'SibSp',\n",
       "       'Parch', 'Ticket', 'Fare', 'Cabin', 'Embarked'],\n",
       "      dtype='object')"
      ]
     },
     "execution_count": 4,
     "metadata": {},
     "output_type": "execute_result"
    }
   ],
   "source": [
    "df.columns"
   ]
  },
  {
   "cell_type": "code",
   "execution_count": 5,
   "metadata": {},
   "outputs": [
    {
     "name": "stdout",
     "output_type": "stream",
     "text": [
      "Dataset Info:\n",
      "<class 'pandas.core.frame.DataFrame'>\n",
      "RangeIndex: 891 entries, 0 to 890\n",
      "Data columns (total 12 columns):\n",
      " #   Column       Non-Null Count  Dtype  \n",
      "---  ------       --------------  -----  \n",
      " 0   PassengerId  891 non-null    int64  \n",
      " 1   Survived     891 non-null    int64  \n",
      " 2   Pclass       891 non-null    int64  \n",
      " 3   Name         891 non-null    object \n",
      " 4   Sex          891 non-null    object \n",
      " 5   Age          714 non-null    float64\n",
      " 6   SibSp        891 non-null    int64  \n",
      " 7   Parch        891 non-null    int64  \n",
      " 8   Ticket       891 non-null    object \n",
      " 9   Fare         891 non-null    float64\n",
      " 10  Cabin        204 non-null    object \n",
      " 11  Embarked     889 non-null    object \n",
      "dtypes: float64(2), int64(5), object(5)\n",
      "memory usage: 83.7+ KB\n"
     ]
    }
   ],
   "source": [
    "# Get basic information about the dataset\n",
    "print(\"Dataset Info:\")\n",
    "df.info()"
   ]
  },
  {
   "cell_type": "code",
   "execution_count": null,
   "metadata": {},
   "outputs": [
    {
     "name": "stdout",
     "output_type": "stream",
     "text": [
      "Statistical Summary:\n"
     ]
    },
    {
     "data": {
      "text/html": [
       "<div>\n",
       "<style scoped>\n",
       "    .dataframe tbody tr th:only-of-type {\n",
       "        vertical-align: middle;\n",
       "    }\n",
       "\n",
       "    .dataframe tbody tr th {\n",
       "        vertical-align: top;\n",
       "    }\n",
       "\n",
       "    .dataframe thead th {\n",
       "        text-align: right;\n",
       "    }\n",
       "</style>\n",
       "<table border=\"1\" class=\"dataframe\">\n",
       "  <thead>\n",
       "    <tr style=\"text-align: right;\">\n",
       "      <th></th>\n",
       "      <th>PassengerId</th>\n",
       "      <th>Survived</th>\n",
       "      <th>Pclass</th>\n",
       "      <th>Age</th>\n",
       "      <th>SibSp</th>\n",
       "      <th>Parch</th>\n",
       "      <th>Fare</th>\n",
       "    </tr>\n",
       "  </thead>\n",
       "  <tbody>\n",
       "    <tr>\n",
       "      <th>count</th>\n",
       "      <td>891.000000</td>\n",
       "      <td>891.000000</td>\n",
       "      <td>891.000000</td>\n",
       "      <td>714.000000</td>\n",
       "      <td>891.000000</td>\n",
       "      <td>891.000000</td>\n",
       "      <td>891.000000</td>\n",
       "    </tr>\n",
       "    <tr>\n",
       "      <th>mean</th>\n",
       "      <td>446.000000</td>\n",
       "      <td>0.383838</td>\n",
       "      <td>2.308642</td>\n",
       "      <td>29.699118</td>\n",
       "      <td>0.523008</td>\n",
       "      <td>0.381594</td>\n",
       "      <td>32.204208</td>\n",
       "    </tr>\n",
       "    <tr>\n",
       "      <th>std</th>\n",
       "      <td>257.353842</td>\n",
       "      <td>0.486592</td>\n",
       "      <td>0.836071</td>\n",
       "      <td>14.526497</td>\n",
       "      <td>1.102743</td>\n",
       "      <td>0.806057</td>\n",
       "      <td>49.693429</td>\n",
       "    </tr>\n",
       "    <tr>\n",
       "      <th>min</th>\n",
       "      <td>1.000000</td>\n",
       "      <td>0.000000</td>\n",
       "      <td>1.000000</td>\n",
       "      <td>0.420000</td>\n",
       "      <td>0.000000</td>\n",
       "      <td>0.000000</td>\n",
       "      <td>0.000000</td>\n",
       "    </tr>\n",
       "    <tr>\n",
       "      <th>25%</th>\n",
       "      <td>223.500000</td>\n",
       "      <td>0.000000</td>\n",
       "      <td>2.000000</td>\n",
       "      <td>20.125000</td>\n",
       "      <td>0.000000</td>\n",
       "      <td>0.000000</td>\n",
       "      <td>7.910400</td>\n",
       "    </tr>\n",
       "    <tr>\n",
       "      <th>50%</th>\n",
       "      <td>446.000000</td>\n",
       "      <td>0.000000</td>\n",
       "      <td>3.000000</td>\n",
       "      <td>28.000000</td>\n",
       "      <td>0.000000</td>\n",
       "      <td>0.000000</td>\n",
       "      <td>14.454200</td>\n",
       "    </tr>\n",
       "    <tr>\n",
       "      <th>75%</th>\n",
       "      <td>668.500000</td>\n",
       "      <td>1.000000</td>\n",
       "      <td>3.000000</td>\n",
       "      <td>38.000000</td>\n",
       "      <td>1.000000</td>\n",
       "      <td>0.000000</td>\n",
       "      <td>31.000000</td>\n",
       "    </tr>\n",
       "    <tr>\n",
       "      <th>max</th>\n",
       "      <td>891.000000</td>\n",
       "      <td>1.000000</td>\n",
       "      <td>3.000000</td>\n",
       "      <td>80.000000</td>\n",
       "      <td>8.000000</td>\n",
       "      <td>6.000000</td>\n",
       "      <td>512.329200</td>\n",
       "    </tr>\n",
       "  </tbody>\n",
       "</table>\n",
       "</div>"
      ],
      "text/plain": [
       "       PassengerId    Survived      Pclass         Age       SibSp  \\\n",
       "count   891.000000  891.000000  891.000000  714.000000  891.000000   \n",
       "mean    446.000000    0.383838    2.308642   29.699118    0.523008   \n",
       "std     257.353842    0.486592    0.836071   14.526497    1.102743   \n",
       "min       1.000000    0.000000    1.000000    0.420000    0.000000   \n",
       "25%     223.500000    0.000000    2.000000   20.125000    0.000000   \n",
       "50%     446.000000    0.000000    3.000000   28.000000    0.000000   \n",
       "75%     668.500000    1.000000    3.000000   38.000000    1.000000   \n",
       "max     891.000000    1.000000    3.000000   80.000000    8.000000   \n",
       "\n",
       "            Parch        Fare  \n",
       "count  891.000000  891.000000  \n",
       "mean     0.381594   32.204208  \n",
       "std      0.806057   49.693429  \n",
       "min      0.000000    0.000000  \n",
       "25%      0.000000    7.910400  \n",
       "50%      0.000000   14.454200  \n",
       "75%      0.000000   31.000000  \n",
       "max      6.000000  512.329200  "
      ]
     },
     "execution_count": 6,
     "metadata": {},
     "output_type": "execute_result"
    }
   ],
   "source": [
    "# Statistical summary\n",
    "print(\"Statistical Summary:\")\n",
    "df.describe()"
   ]
  },
  {
   "cell_type": "code",
   "execution_count": 7,
   "metadata": {},
   "outputs": [
    {
     "name": "stdout",
     "output_type": "stream",
     "text": [
      "Missing values in each column:\n"
     ]
    },
    {
     "data": {
      "text/plain": [
       "PassengerId      0\n",
       "Survived         0\n",
       "Pclass           0\n",
       "Name             0\n",
       "Sex              0\n",
       "Age            177\n",
       "SibSp            0\n",
       "Parch            0\n",
       "Ticket           0\n",
       "Fare             0\n",
       "Cabin          687\n",
       "Embarked         2\n",
       "dtype: int64"
      ]
     },
     "execution_count": 7,
     "metadata": {},
     "output_type": "execute_result"
    }
   ],
   "source": [
    "# Check for missing values\n",
    "print(\"Missing values in each column:\")\n",
    "df.isnull().sum()"
   ]
  },
  {
   "cell_type": "markdown",
   "metadata": {},
   "source": [
    "## 2. GroupBy Method - Grouping Data for Analysis\n",
    "\n",
    "The `groupby()` method is one of the most powerful features in pandas. It allows us to split data into groups based on some criteria, apply a function to each group, and combine the results."
   ]
  },
  {
   "cell_type": "markdown",
   "metadata": {},
   "source": [
    "### Example 1: Basic GroupBy - Survival Rate by Class"
   ]
  },
  {
   "cell_type": "code",
   "execution_count": 8,
   "metadata": {},
   "outputs": [
    {
     "name": "stdout",
     "output_type": "stream",
     "text": [
      "Survival rate by passenger class:\n",
      "Pclass\n",
      "1    0.629630\n",
      "2    0.472826\n",
      "3    0.242363\n",
      "Name: Survived, dtype: float64\n",
      "\n",
      "Interpretation: Higher class passengers had better survival rates\n"
     ]
    }
   ],
   "source": [
    "# Group by passenger class and calculate survival rate\n",
    "survival_by_class = df.groupby('Pclass')['Survived'].mean()\n",
    "\n",
    "print(\"Survival rate by passenger class:\")\n",
    "print(survival_by_class)\n",
    "print(\"\\nInterpretation: Higher class passengers had better survival rates\")"
   ]
  },
  {
   "cell_type": "markdown",
   "metadata": {},
   "source": [
    "### Example 2: Multiple Grouping Variables - Survival by Class and Gender"
   ]
  },
  {
   "cell_type": "code",
   "execution_count": 9,
   "metadata": {},
   "outputs": [
    {
     "name": "stdout",
     "output_type": "stream",
     "text": [
      "Survival rate by class and gender:\n",
      "Pclass  Sex   \n",
      "1       female    0.968085\n",
      "        male      0.368852\n",
      "2       female    0.921053\n",
      "        male      0.157407\n",
      "3       female    0.500000\n",
      "        male      0.135447\n",
      "Name: Survived, dtype: float64\n",
      "\n",
      "Interpretation: Females had higher survival rates across all classes\n"
     ]
    }
   ],
   "source": [
    "# Group by multiple columns\n",
    "survival_by_class_gender = df.groupby(['Pclass', 'Sex'])['Survived'].mean()\n",
    "\n",
    "print(\"Survival rate by class and gender:\")\n",
    "print(survival_by_class_gender)\n",
    "print(\"\\nInterpretation: Females had higher survival rates across all classes\")"
   ]
  },
  {
   "cell_type": "markdown",
   "metadata": {},
   "source": [
    "### Example 3: Multiple Statistics with GroupBy"
   ]
  },
  {
   "cell_type": "code",
   "execution_count": 10,
   "metadata": {},
   "outputs": [
    {
     "name": "stdout",
     "output_type": "stream",
     "text": [
      "Age statistics by passenger class:\n",
      "        count   mean  median   std\n",
      "Pclass                            \n",
      "1         186  38.23    37.0  14.8\n",
      "2         173  29.88    29.0  14.0\n",
      "3         355  25.14    24.0  12.5\n",
      "\n",
      "Interpretation: First class passengers were generally older\n"
     ]
    }
   ],
   "source": [
    "# Get multiple statistics for grouped data\n",
    "age_stats_by_class = df.groupby('Pclass')['Age'].agg(['count', 'mean', 'median', 'std'])\n",
    "\n",
    "print(\"Age statistics by passenger class:\")\n",
    "print(age_stats_by_class.round(2))\n",
    "print(\"\\nInterpretation: First class passengers were generally older\")"
   ]
  },
  {
   "cell_type": "markdown",
   "metadata": {},
   "source": [
    "### Example 4: GroupBy with Transform"
   ]
  },
  {
   "cell_type": "code",
   "execution_count": 11,
   "metadata": {},
   "outputs": [
    {
     "name": "stdout",
     "output_type": "stream",
     "text": [
      "First 10 rows showing original age and mean age by class:\n",
      "   Pclass   Age  Mean_Age_By_Class\n",
      "0       3  22.0          25.140620\n",
      "1       1  38.0          38.233441\n",
      "2       3  26.0          25.140620\n",
      "3       1  35.0          38.233441\n",
      "4       3  35.0          25.140620\n",
      "5       3   NaN          25.140620\n",
      "6       1  54.0          38.233441\n",
      "7       3   2.0          25.140620\n",
      "8       3  27.0          25.140620\n",
      "9       2  14.0          29.877630\n",
      "\n",
      "Interpretation: Transform keeps the original dataframe structure while adding group statistics\n"
     ]
    }
   ],
   "source": [
    "# Add a column with mean age by class\n",
    "df['Mean_Age_By_Class'] = df.groupby('Pclass')['Age'].transform('mean')\n",
    "\n",
    "print(\"First 10 rows showing original age and mean age by class:\")\n",
    "print(df[['Pclass', 'Age', 'Mean_Age_By_Class']].head(10))\n",
    "print(\"\\nInterpretation: Transform keeps the original dataframe structure while adding group statistics\")"
   ]
  },
  {
   "cell_type": "markdown",
   "metadata": {},
   "source": [
    "## 3. Query Method - Powerful Data Filtering\n",
    "\n",
    "The `query()` method provides a concise way to filter data using string expressions. It's often more readable than boolean indexing."
   ]
  },
  {
   "cell_type": "markdown",
   "metadata": {},
   "source": [
    "### Example 1: Simple Query - First Class Passengers"
   ]
  },
  {
   "cell_type": "code",
   "execution_count": 12,
   "metadata": {},
   "outputs": [
    {
     "name": "stdout",
     "output_type": "stream",
     "text": [
      "Number of first class passengers: 216\n",
      "Survival rate among first class: 0.630\n",
      "\n",
      "First few first class passengers:\n",
      "                                                 Name     Sex   Age  Survived\n",
      "1   Cumings, Mrs. John Bradley (Florence Briggs Th...  female  38.0         1\n",
      "3        Futrelle, Mrs. Jacques Heath (Lily May Peel)  female  35.0         1\n",
      "6                             McCarthy, Mr. Timothy J    male  54.0         0\n",
      "11                           Bonnell, Miss. Elizabeth  female  58.0         1\n",
      "23                       Sloper, Mr. William Thompson    male  28.0         1\n"
     ]
    }
   ],
   "source": [
    "# Filter first class passengers\n",
    "first_class = df.query('Pclass == 1')\n",
    "\n",
    "print(f\"Number of first class passengers: {len(first_class)}\")\n",
    "print(f\"Survival rate among first class: {first_class['Survived'].mean():.3f}\")\n",
    "print(\"\\nFirst few first class passengers:\")\n",
    "print(first_class[['Name', 'Sex', 'Age', 'Survived']].head())"
   ]
  },
  {
   "cell_type": "markdown",
   "metadata": {},
   "source": [
    "### Example 2: Complex Query with Multiple Conditions"
   ]
  },
  {
   "cell_type": "code",
   "execution_count": 13,
   "metadata": {},
   "outputs": [
    {
     "name": "stdout",
     "output_type": "stream",
     "text": [
      "Number of young female survivors: 105\n",
      "\n",
      "Sample of young female survivors:\n",
      "                                                 Name   Age  Pclass\n",
      "2                              Heikkinen, Miss. Laina  26.0       3\n",
      "8   Johnson, Mrs. Oscar W (Elisabeth Vilhelmina Berg)  27.0       3\n",
      "9                 Nasser, Mrs. Nicholas (Adele Achem)  14.0       2\n",
      "10                    Sandstrom, Miss. Marguerite Rut   4.0       3\n",
      "22                        McGowan, Miss. Anna \"Annie\"  15.0       3\n"
     ]
    }
   ],
   "source": [
    "# Filter young female survivors\n",
    "young_female_survivors = df.query('Age < 30 and Sex == \"female\" and Survived == 1')\n",
    "\n",
    "print(f\"Number of young female survivors: {len(young_female_survivors)}\")\n",
    "print(\"\\nSample of young female survivors:\")\n",
    "print(young_female_survivors[['Name', 'Age', 'Pclass']].head())"
   ]
  },
  {
   "cell_type": "markdown",
   "metadata": {},
   "source": [
    "### Example 3: Query with Variables"
   ]
  },
  {
   "cell_type": "code",
   "execution_count": 14,
   "metadata": {},
   "outputs": [
    {
     "name": "stdout",
     "output_type": "stream",
     "text": [
      "Passengers aged 30-50 in class 2: 70\n",
      "Their survival rate: 0.457\n"
     ]
    }
   ],
   "source": [
    "# Using variables in queries\n",
    "min_age = 30\n",
    "max_age = 50\n",
    "target_class = 2\n",
    "\n",
    "filtered_passengers = df.query('Age >= @min_age and Age <= @max_age and Pclass == @target_class')\n",
    "\n",
    "print(f\"Passengers aged {min_age}-{max_age} in class {target_class}: {len(filtered_passengers)}\")\n",
    "print(f\"Their survival rate: {filtered_passengers['Survived'].mean():.3f}\")"
   ]
  },
  {
   "cell_type": "markdown",
   "metadata": {},
   "source": [
    "### Example 4: Query with String Methods"
   ]
  },
  {
   "cell_type": "code",
   "execution_count": 15,
   "metadata": {},
   "outputs": [
    {
     "name": "stdout",
     "output_type": "stream",
     "text": [
      "Passengers with 'Mr.': 517\n",
      "Passengers with 'Mrs.': 125\n",
      "Survival rate for Mr.: 0.157\n",
      "Survival rate for Mrs.: 0.792\n"
     ]
    }
   ],
   "source": [
    "# Find passengers with titles in their names\n",
    "passengers_with_mr = df.query('Name.str.contains(\"Mr\\.\", na=False)')\n",
    "passengers_with_mrs = df.query('Name.str.contains(\"Mrs\\.\", na=False)')\n",
    "\n",
    "print(f\"Passengers with 'Mr.': {len(passengers_with_mr)}\")\n",
    "print(f\"Passengers with 'Mrs.': {len(passengers_with_mrs)}\")\n",
    "print(f\"Survival rate for Mr.: {passengers_with_mr['Survived'].mean():.3f}\")\n",
    "print(f\"Survival rate for Mrs.: {passengers_with_mrs['Survived'].mean():.3f}\")"
   ]
  },
  {
   "cell_type": "markdown",
   "metadata": {},
   "source": [
    "## 4. Agg Method - Multiple Aggregations\n",
    "\n",
    "The `agg()` method allows you to apply multiple aggregation functions to your data in a single operation."
   ]
  },
  {
   "cell_type": "markdown",
   "metadata": {},
   "source": [
    "### Example 1: Basic Aggregation on Multiple Columns"
   ]
  },
  {
   "cell_type": "code",
   "execution_count": 16,
   "metadata": {},
   "outputs": [
    {
     "name": "stdout",
     "output_type": "stream",
     "text": [
      "Basic aggregations:\n",
      "          Age    Fare  Survived\n",
      "mean    29.70   32.20      0.38\n",
      "median  28.00     NaN       NaN\n",
      "std     14.53     NaN       NaN\n",
      "max       NaN  512.33       NaN\n",
      "min       NaN    0.00       NaN\n",
      "sum       NaN     NaN    342.00\n"
     ]
    }
   ],
   "source": [
    "# Apply different aggregations to different columns\n",
    "basic_agg = df.agg({\n",
    "    'Age': ['mean', 'median', 'std'],\n",
    "    'Fare': ['mean', 'max', 'min'],\n",
    "    'Survived': ['sum', 'mean']\n",
    "})\n",
    "\n",
    "print(\"Basic aggregations:\")\n",
    "print(basic_agg.round(2))"
   ]
  },
  {
   "cell_type": "markdown",
   "metadata": {},
   "source": [
    "### Example 2: Custom Aggregation Functions"
   ]
  },
  {
   "cell_type": "code",
   "execution_count": 18,
   "metadata": {},
   "outputs": [
    {
     "name": "stdout",
     "output_type": "stream",
     "text": [
      "Custom aggregations:\n",
      "                     Age Survived\n",
      "age_range      79.580000      NaN\n",
      "mean           29.699118      NaN\n",
      "survival_rate        NaN    38.4%\n",
      "sum                  NaN      342\n"
     ]
    }
   ],
   "source": [
    "# Define custom aggregation functions\n",
    "def age_range(series):\n",
    "    return series.max() - series.min()\n",
    "\n",
    "def survival_rate(series):\n",
    "    return f\"{series.mean():.1%}\"\n",
    "\n",
    "custom_agg = df.agg({\n",
    "    'Age': [age_range, 'mean'],\n",
    "    'Survived': [survival_rate, 'sum']\n",
    "})\n",
    "\n",
    "print(\"Custom aggregations:\")\n",
    "print(custom_agg)"
   ]
  },
  {
   "cell_type": "markdown",
   "metadata": {},
   "source": [
    "### Example 3: Aggregation with GroupBy"
   ]
  },
  {
   "cell_type": "code",
   "execution_count": 19,
   "metadata": {},
   "outputs": [
    {
     "name": "stdout",
     "output_type": "stream",
     "text": [
      "Detailed statistics by gender:\n",
      "         Age                 Fare        Survived       SibSp Parch\n",
      "       count   mean    std   mean median      sum  mean  mean  mean\n",
      "Sex                                                                \n",
      "female   261  27.92  14.11  44.48   23.0      233  0.74  0.69  0.65\n",
      "male     453  30.73  14.68  25.52   10.5      109  0.19  0.43  0.24\n"
     ]
    }
   ],
   "source": [
    "# Combine groupby with agg for detailed analysis\n",
    "detailed_stats = df.groupby('Sex').agg({\n",
    "    'Age': ['count', 'mean', 'std'],\n",
    "    'Fare': ['mean', 'median'],\n",
    "    'Survived': ['sum', 'mean'],\n",
    "    'SibSp': 'mean',\n",
    "    'Parch': 'mean'\n",
    "})\n",
    "\n",
    "print(\"Detailed statistics by gender:\")\n",
    "print(detailed_stats.round(2))"
   ]
  },
  {
   "cell_type": "markdown",
   "metadata": {},
   "source": [
    "### Example 4: Named Aggregations (pandas >= 0.25)"
   ]
  },
  {
   "cell_type": "code",
   "execution_count": 20,
   "metadata": {},
   "outputs": [
    {
     "name": "stdout",
     "output_type": "stream",
     "text": [
      "Named aggregations by class:\n",
      "        avg_age  median_fare  total_passengers  survivors  survival_rate\n",
      "Pclass                                                                  \n",
      "1         38.23        60.29               216        136           0.63\n",
      "2         29.88        14.25               184         87           0.47\n",
      "3         25.14         8.05               491        119           0.24\n"
     ]
    }
   ],
   "source": [
    "# Use named aggregations for cleaner column names\n",
    "named_agg = df.groupby('Pclass').agg(\n",
    "    avg_age=('Age', 'mean'),\n",
    "    median_fare=('Fare', 'median'),\n",
    "    total_passengers=('PassengerId', 'count'),\n",
    "    survivors=('Survived', 'sum'),\n",
    "    survival_rate=('Survived', 'mean')\n",
    ")\n",
    "\n",
    "print(\"Named aggregations by class:\")\n",
    "print(named_agg.round(2))"
   ]
  },
  {
   "cell_type": "markdown",
   "metadata": {},
   "source": [
    "## 5. Sort_values Method - Sorting Data\n",
    "\n",
    "The `sort_values()` method is used to sort dataframes by one or more columns."
   ]
  },
  {
   "cell_type": "markdown",
   "metadata": {},
   "source": [
    "### Example 1: Simple Sorting by Single Column"
   ]
  },
  {
   "cell_type": "code",
   "execution_count": null,
   "metadata": {},
   "outputs": [],
   "source": [
    "# Sort by age (ascending)\n",
    "sorted_by_age = df.sort_values('Age').dropna(subset=['Age'])\n",
    "\n",
    "print(\"Youngest passengers:\")\n",
    "print(sorted_by_age[['Name', 'Age', 'Sex', 'Pclass']].head())\n",
    "\n",
    "print(\"\\nOldest passengers:\")\n",
    "print(sorted_by_age[['Name', 'Age', 'Sex', 'Pclass']].tail())"
   ]
  },
  {
   "cell_type": "markdown",
   "metadata": {},
   "source": [
    "### Example 2: Sorting in Descending Order"
   ]
  },
  {
   "cell_type": "code",
   "execution_count": 21,
   "metadata": {},
   "outputs": [
    {
     "name": "stdout",
     "output_type": "stream",
     "text": [
      "Passengers who paid the highest fares:\n",
      "                                   Name      Fare  Pclass  Survived\n",
      "258                    Ward, Miss. Anna  512.3292       1         1\n",
      "737              Lesurer, Mr. Gustave J  512.3292       1         1\n",
      "679  Cardeza, Mr. Thomas Drake Martinez  512.3292       1         1\n",
      "88           Fortune, Miss. Mabel Helen  263.0000       1         1\n",
      "27       Fortune, Mr. Charles Alexander  263.0000       1         0\n",
      "\n",
      "Interpretation: Higher fares were generally associated with first class\n"
     ]
    }
   ],
   "source": [
    "# Sort by fare (descending)\n",
    "sorted_by_fare = df.sort_values('Fare', ascending=False)\n",
    "\n",
    "print(\"Passengers who paid the highest fares:\")\n",
    "print(sorted_by_fare[['Name', 'Fare', 'Pclass', 'Survived']].head())\n",
    "\n",
    "print(\"\\nInterpretation: Higher fares were generally associated with first class\")"
   ]
  },
  {
   "cell_type": "markdown",
   "metadata": {},
   "source": [
    "### Example 3: Sorting by Multiple Columns"
   ]
  },
  {
   "cell_type": "code",
   "execution_count": 22,
   "metadata": {},
   "outputs": [
    {
     "name": "stdout",
     "output_type": "stream",
     "text": [
      "Passengers sorted by class, then by fare within each class:\n",
      "                                      Name  Pclass      Fare  Survived\n",
      "258                       Ward, Miss. Anna       1  512.3292         1\n",
      "679     Cardeza, Mr. Thomas Drake Martinez       1  512.3292         1\n",
      "737                 Lesurer, Mr. Gustave J       1  512.3292         1\n",
      "27          Fortune, Mr. Charles Alexander       1  263.0000         0\n",
      "88              Fortune, Miss. Mabel Helen       1  263.0000         1\n",
      "341         Fortune, Miss. Alice Elizabeth       1  263.0000         1\n",
      "438                      Fortune, Mr. Mark       1  263.0000         0\n",
      "311             Ryerson, Miss. Emily Borie       1  262.3750         1\n",
      "742  Ryerson, Miss. Susan Parker \"Suzette\"       1  262.3750         1\n",
      "118               Baxter, Mr. Quigg Edmond       1  247.5208         0\n",
      "\n",
      "Interpretation: Within each class, passengers are ordered by highest fare first\n"
     ]
    }
   ],
   "source": [
    "# Sort by class (ascending) then by fare (descending)\n",
    "multi_sort = df.sort_values(['Pclass', 'Fare'], ascending=[True, False])\n",
    "\n",
    "print(\"Passengers sorted by class, then by fare within each class:\")\n",
    "print(multi_sort[['Name', 'Pclass', 'Fare', 'Survived']].head(10))\n",
    "\n",
    "print(\"\\nInterpretation: Within each class, passengers are ordered by highest fare first\")"
   ]
  },
  {
   "cell_type": "markdown",
   "metadata": {},
   "source": [
    "### Example 4: Sorting with Missing Values"
   ]
  },
  {
   "cell_type": "code",
   "execution_count": 23,
   "metadata": {},
   "outputs": [
    {
     "name": "stdout",
     "output_type": "stream",
     "text": [
      "With NaN values first:\n",
      "                             Name  Age\n",
      "5                Moran, Mr. James  NaN\n",
      "17   Williams, Mr. Charles Eugene  NaN\n",
      "19        Masselmani, Mrs. Fatima  NaN\n",
      "26        Emir, Mr. Farred Chehab  NaN\n",
      "28  O'Dwyer, Miss. Ellen \"Nellie\"  NaN\n",
      "\n",
      "With NaN values last:\n",
      "                                         Name  Age\n",
      "859                          Razi, Mr. Raihed  NaN\n",
      "863         Sage, Miss. Dorothy Edith \"Dolly\"  NaN\n",
      "868               van Melkebeke, Mr. Philemon  NaN\n",
      "878                        Laleff, Mr. Kristo  NaN\n",
      "888  Johnston, Miss. Catherine Helen \"Carrie\"  NaN\n"
     ]
    }
   ],
   "source": [
    "# Sort by age, handling missing values\n",
    "sort_with_na_first = df.sort_values('Age', na_position='first')\n",
    "sort_with_na_last = df.sort_values('Age', na_position='last')\n",
    "\n",
    "print(\"With NaN values first:\")\n",
    "print(sort_with_na_first[['Name', 'Age']].head())\n",
    "\n",
    "print(\"\\nWith NaN values last:\")\n",
    "print(sort_with_na_last[['Name', 'Age']].tail())"
   ]
  },
  {
   "cell_type": "markdown",
   "metadata": {},
   "source": [
    "## 6. iloc Method - Integer-based Indexing\n",
    "\n",
    "The `iloc` accessor provides integer-based indexing for selection by position."
   ]
  },
  {
   "cell_type": "markdown",
   "metadata": {},
   "source": [
    "### Example 1: Selecting Rows by Position"
   ]
  },
  {
   "cell_type": "code",
   "execution_count": 24,
   "metadata": {},
   "outputs": [
    {
     "name": "stdout",
     "output_type": "stream",
     "text": [
      "First 5 passengers:\n",
      "                                                Name   Age     Sex  Survived\n",
      "0                            Braund, Mr. Owen Harris  22.0    male         0\n",
      "1  Cumings, Mrs. John Bradley (Florence Briggs Th...  38.0  female         1\n",
      "2                             Heikkinen, Miss. Laina  26.0  female         1\n",
      "3       Futrelle, Mrs. Jacques Heath (Lily May Peel)  35.0  female         1\n",
      "4                           Allen, Mr. William Henry  35.0    male         0\n",
      "\n",
      "Last 3 passengers:\n",
      "                                         Name   Age     Sex  Survived\n",
      "888  Johnston, Miss. Catherine Helen \"Carrie\"   NaN  female         0\n",
      "889                     Behr, Mr. Karl Howell  26.0    male         1\n",
      "890                       Dooley, Mr. Patrick  32.0    male         0\n"
     ]
    }
   ],
   "source": [
    "# Select first 5 rows\n",
    "first_five = df.iloc[:5]\n",
    "print(\"First 5 passengers:\")\n",
    "print(first_five[['Name', 'Age', 'Sex', 'Survived']])\n",
    "\n",
    "# Select last 3 rows\n",
    "last_three = df.iloc[-3:]\n",
    "print(\"\\nLast 3 passengers:\")\n",
    "print(last_three[['Name', 'Age', 'Sex', 'Survived']])"
   ]
  },
  {
   "cell_type": "markdown",
   "metadata": {},
   "source": [
    "### Example 2: Selecting Specific Rows and Columns"
   ]
  },
  {
   "cell_type": "code",
   "execution_count": 25,
   "metadata": {},
   "outputs": [
    {
     "name": "stdout",
     "output_type": "stream",
     "text": [
      "Rows 10-15, columns 1-4:\n",
      "    Survived  Pclass                                  Name     Sex\n",
      "10         1       3       Sandstrom, Miss. Marguerite Rut  female\n",
      "11         1       1              Bonnell, Miss. Elizabeth  female\n",
      "12         0       3        Saundercock, Mr. William Henry    male\n",
      "13         0       3           Andersson, Mr. Anders Johan    male\n",
      "14         0       3  Vestrom, Miss. Hulda Amanda Adolfina  female\n",
      "15         1       2      Hewlett, Mrs. (Mary D Kingcome)   female\n",
      "\n",
      "Every 100th passenger:\n",
      "                                                  Name   Age     Sex\n",
      "0                              Braund, Mr. Owen Harris  22.0    male\n",
      "100                            Petranec, Miss. Matilda  28.0  female\n",
      "200                     Vande Walle, Mr. Nestor Cyriel  28.0    male\n",
      "300           Kelly, Miss. Anna Katherine \"Annie Kate\"   NaN  female\n",
      "400                                 Niskanen, Mr. Juha  39.0    male\n",
      "500                                   Calic, Mr. Petar  17.0    male\n",
      "600  Jacobsohn, Mrs. Sidney Samuel (Amy Frances Chr...  24.0  female\n",
      "700  Astor, Mrs. John Jacob (Madeleine Talmadge Force)  18.0  female\n",
      "800                               Ponesell, Mr. Martin  34.0    male\n"
     ]
    }
   ],
   "source": [
    "# Select specific rows and columns by position\n",
    "# Rows 10-15, columns 1-4\n",
    "subset = df.iloc[10:16, 1:5]\n",
    "print(\"Rows 10-15, columns 1-4:\")\n",
    "print(subset)\n",
    "\n",
    "# Select every 100th row\n",
    "every_100th = df.iloc[::100]\n",
    "print(\"\\nEvery 100th passenger:\")\n",
    "print(every_100th[['Name', 'Age', 'Sex']])"
   ]
  },
  {
   "cell_type": "markdown",
   "metadata": {},
   "source": [
    "### Example 3: Selecting Random Samples"
   ]
  },
  {
   "cell_type": "code",
   "execution_count": 26,
   "metadata": {},
   "outputs": [
    {
     "name": "stdout",
     "output_type": "stream",
     "text": [
      "5 random passengers:\n",
      "                                                  Name   Age     Sex  Pclass  \\\n",
      "654                       Hegarty, Miss. Hanora \"Nora\"  18.0  female       3   \n",
      "114                              Attalah, Miss. Malake  17.0  female       3   \n",
      "25   Asplund, Mrs. Carl Oscar (Selma Augusta Emilia...  38.0  female       3   \n",
      "759  Rothes, the Countess. of (Lucy Noel Martha Dye...  33.0  female       1   \n",
      "281                   Olsson, Mr. Nils Johan Goransson  28.0    male       3   \n",
      "\n",
      "     Survived  \n",
      "654         0  \n",
      "114         0  \n",
      "25          1  \n",
      "759         1  \n",
      "281         0  \n"
     ]
    }
   ],
   "source": [
    "# Select random rows using iloc\n",
    "import random\n",
    "random.seed(42)\n",
    "\n",
    "random_indices = random.sample(range(len(df)), 5)\n",
    "random_passengers = df.iloc[random_indices]\n",
    "\n",
    "print(\"5 random passengers:\")\n",
    "print(random_passengers[['Name', 'Age', 'Sex', 'Pclass', 'Survived']])"
   ]
  },
  {
   "cell_type": "markdown",
   "metadata": {},
   "source": [
    "### Example 4: Boolean Indexing with iloc"
   ]
  },
  {
   "cell_type": "code",
   "execution_count": 27,
   "metadata": {},
   "outputs": [
    {
     "name": "stdout",
     "output_type": "stream",
     "text": [
      "First 10 survivors in the dataset:\n",
      "                                                 Name   Age     Sex  Pclass\n",
      "1   Cumings, Mrs. John Bradley (Florence Briggs Th...  38.0  female       1\n",
      "2                              Heikkinen, Miss. Laina  26.0  female       3\n",
      "3        Futrelle, Mrs. Jacques Heath (Lily May Peel)  35.0  female       1\n",
      "8   Johnson, Mrs. Oscar W (Elisabeth Vilhelmina Berg)  27.0  female       3\n",
      "9                 Nasser, Mrs. Nicholas (Adele Achem)  14.0  female       2\n",
      "10                    Sandstrom, Miss. Marguerite Rut   4.0  female       3\n",
      "11                           Bonnell, Miss. Elizabeth  58.0  female       1\n",
      "15                   Hewlett, Mrs. (Mary D Kingcome)   55.0  female       2\n",
      "17                       Williams, Mr. Charles Eugene   NaN    male       2\n",
      "19                            Masselmani, Mrs. Fatima   NaN  female       3\n"
     ]
    }
   ],
   "source": [
    "# Combine boolean indexing with iloc\n",
    "survivors = df[df['Survived'] == 1]\n",
    "first_10_survivors = survivors.iloc[:10]\n",
    "\n",
    "print(\"First 10 survivors in the dataset:\")\n",
    "print(first_10_survivors[['Name', 'Age', 'Sex', 'Pclass']])"
   ]
  },
  {
   "cell_type": "markdown",
   "metadata": {},
   "source": [
    "## 7. loc Method - Label-based Indexing\n",
    "\n",
    "The `loc` accessor provides label-based indexing for selection by labels/conditions."
   ]
  },
  {
   "cell_type": "markdown",
   "metadata": {},
   "source": [
    "### Example 1: Selecting by Index Labels"
   ]
  },
  {
   "cell_type": "code",
   "execution_count": 28,
   "metadata": {},
   "outputs": [
    {
     "name": "stdout",
     "output_type": "stream",
     "text": [
      "Passengers with index 0-4:\n",
      "                                                Name   Age     Sex  Survived\n",
      "0                            Braund, Mr. Owen Harris  22.0    male         0\n",
      "1  Cumings, Mrs. John Bradley (Florence Briggs Th...  38.0  female         1\n",
      "2                             Heikkinen, Miss. Laina  26.0  female         1\n",
      "3       Futrelle, Mrs. Jacques Heath (Lily May Peel)  35.0  female         1\n",
      "4                           Allen, Mr. William Henry  35.0    male         0\n"
     ]
    }
   ],
   "source": [
    "# Select specific rows by index\n",
    "specific_passengers = df.loc[0:4, ['Name', 'Age', 'Sex', 'Survived']]\n",
    "print(\"Passengers with index 0-4:\")\n",
    "print(specific_passengers)"
   ]
  },
  {
   "cell_type": "markdown",
   "metadata": {},
   "source": [
    "### Example 2: Boolean Indexing with loc"
   ]
  },
  {
   "cell_type": "code",
   "execution_count": 29,
   "metadata": {},
   "outputs": [
    {
     "name": "stdout",
     "output_type": "stream",
     "text": [
      "Total female passengers: 314\n",
      "\n",
      "First 10 female passengers:\n",
      "                                                 Name   Age  Pclass  Survived\n",
      "1   Cumings, Mrs. John Bradley (Florence Briggs Th...  38.0       1         1\n",
      "2                              Heikkinen, Miss. Laina  26.0       3         1\n",
      "3        Futrelle, Mrs. Jacques Heath (Lily May Peel)  35.0       1         1\n",
      "8   Johnson, Mrs. Oscar W (Elisabeth Vilhelmina Berg)  27.0       3         1\n",
      "9                 Nasser, Mrs. Nicholas (Adele Achem)  14.0       2         1\n",
      "10                    Sandstrom, Miss. Marguerite Rut   4.0       3         1\n",
      "11                           Bonnell, Miss. Elizabeth  58.0       1         1\n",
      "14               Vestrom, Miss. Hulda Amanda Adolfina  14.0       3         0\n",
      "15                   Hewlett, Mrs. (Mary D Kingcome)   55.0       2         1\n",
      "18  Vander Planke, Mrs. Julius (Emelia Maria Vande...  31.0       3         0\n"
     ]
    }
   ],
   "source": [
    "# Select all female passengers\n",
    "female_passengers = df.loc[df['Sex'] == 'female', ['Name', 'Age', 'Pclass', 'Survived']]\n",
    "print(f\"Total female passengers: {len(female_passengers)}\")\n",
    "print(\"\\nFirst 10 female passengers:\")\n",
    "print(female_passengers.head(10))"
   ]
  },
  {
   "cell_type": "markdown",
   "metadata": {},
   "source": [
    "### Example 3: Complex Boolean Conditions"
   ]
  },
  {
   "cell_type": "code",
   "execution_count": 30,
   "metadata": {},
   "outputs": [
    {
     "name": "stdout",
     "output_type": "stream",
     "text": [
      "First class survivors: 136\n",
      "\n",
      "Sample of first class survivors:\n",
      "                                                 Name   Age     Sex      Fare\n",
      "1   Cumings, Mrs. John Bradley (Florence Briggs Th...  38.0  female   71.2833\n",
      "3        Futrelle, Mrs. Jacques Heath (Lily May Peel)  35.0  female   53.1000\n",
      "11                           Bonnell, Miss. Elizabeth  58.0  female   26.5500\n",
      "23                       Sloper, Mr. William Thompson  28.0    male   35.5000\n",
      "31     Spencer, Mrs. William Augustus (Marie Eugenie)   NaN  female  146.5208\n"
     ]
    }
   ],
   "source": [
    "# Select first class passengers who survived\n",
    "first_class_survivors = df.loc[\n",
    "    (df['Pclass'] == 1) & (df['Survived'] == 1), \n",
    "    ['Name', 'Age', 'Sex', 'Fare']\n",
    "]\n",
    "print(f\"First class survivors: {len(first_class_survivors)}\")\n",
    "print(\"\\nSample of first class survivors:\")\n",
    "print(first_class_survivors.head())"
   ]
  },
  {
   "cell_type": "markdown",
   "metadata": {},
   "source": [
    "### Example 4: Modifying Data with loc"
   ]
  },
  {
   "cell_type": "code",
   "execution_count": 31,
   "metadata": {},
   "outputs": [
    {
     "name": "stdout",
     "output_type": "stream",
     "text": [
      "Age group distribution:\n",
      "Age_Group\n",
      "Adult     590\n",
      "Child     113\n",
      "Senior     11\n",
      "Name: count, dtype: int64\n",
      "\n",
      "Survival rate by age group:\n",
      "Age_Group\n",
      "Adult     0.386441\n",
      "Child     0.539823\n",
      "Senior    0.090909\n",
      "Name: Survived, dtype: float64\n"
     ]
    }
   ],
   "source": [
    "# Create a copy to avoid modifying original data\n",
    "df_copy = df.copy()\n",
    "\n",
    "# Create age groups using loc\n",
    "df_copy.loc[df_copy['Age'] < 18, 'Age_Group'] = 'Child'\n",
    "df_copy.loc[(df_copy['Age'] >= 18) & (df_copy['Age'] < 65), 'Age_Group'] = 'Adult'\n",
    "df_copy.loc[df_copy['Age'] >= 65, 'Age_Group'] = 'Senior'\n",
    "\n",
    "print(\"Age group distribution:\")\n",
    "print(df_copy['Age_Group'].value_counts())\n",
    "\n",
    "print(\"\\nSurvival rate by age group:\")\n",
    "print(df_copy.groupby('Age_Group')['Survived'].mean())"
   ]
  },
  {
   "cell_type": "markdown",
   "metadata": {},
   "source": [
    "## 8. Additional Pandas Methods\n",
    "\n",
    "Let's explore more essential pandas methods for data analysis."
   ]
  },
  {
   "cell_type": "markdown",
   "metadata": {},
   "source": [
    "### Value_counts - Frequency Analysis"
   ]
  },
  {
   "cell_type": "code",
   "execution_count": 32,
   "metadata": {},
   "outputs": [
    {
     "name": "stdout",
     "output_type": "stream",
     "text": [
      "Passenger class distribution:\n",
      "Pclass\n",
      "3    491\n",
      "1    216\n",
      "2    184\n",
      "Name: count, dtype: int64\n",
      "\n",
      "Gender distribution:\n",
      "Sex\n",
      "male      577\n",
      "female    314\n",
      "Name: count, dtype: int64\n",
      "\n",
      "Embarkation port distribution:\n",
      "Embarked\n",
      "S      644\n",
      "C      168\n",
      "Q       77\n",
      "NaN      2\n",
      "Name: count, dtype: int64\n",
      "\n",
      "Survival rate (as percentages):\n",
      "Survived\n",
      "0    61.616162\n",
      "1    38.383838\n",
      "Name: proportion, dtype: float64\n"
     ]
    }
   ],
   "source": [
    "# Analyze categorical variables\n",
    "print(\"Passenger class distribution:\")\n",
    "print(df['Pclass'].value_counts())\n",
    "\n",
    "print(\"\\nGender distribution:\")\n",
    "print(df['Sex'].value_counts())\n",
    "\n",
    "print(\"\\nEmbarkation port distribution:\")\n",
    "print(df['Embarked'].value_counts(dropna=False))\n",
    "\n",
    "# Normalized counts (percentages)\n",
    "print(\"\\nSurvival rate (as percentages):\")\n",
    "print(df['Survived'].value_counts(normalize=True) * 100)"
   ]
  },
  {
   "cell_type": "markdown",
   "metadata": {},
   "source": [
    "### Crosstab - Cross Tabulation"
   ]
  },
  {
   "cell_type": "code",
   "execution_count": 33,
   "metadata": {},
   "outputs": [
    {
     "name": "stdout",
     "output_type": "stream",
     "text": [
      "Cross-tabulation: Class vs Gender and Survival:\n",
      "Sex      female      male       All\n",
      "Survived      0    1    0    1     \n",
      "Pclass                             \n",
      "1             3   91   77   45  216\n",
      "2             6   70   91   17  184\n",
      "3            72   72  300   47  491\n",
      "All          81  233  468  109  891\n",
      "\n",
      "Normalized cross-tabulation (percentages):\n",
      "Survived     0     1\n",
      "Sex                 \n",
      "female    25.8  74.2\n",
      "male      81.1  18.9\n"
     ]
    }
   ],
   "source": [
    "# Create cross-tabulations\n",
    "survival_by_class_gender = pd.crosstab(df['Pclass'], [df['Sex'], df['Survived']], margins=True)\n",
    "print(\"Cross-tabulation: Class vs Gender and Survival:\")\n",
    "print(survival_by_class_gender)\n",
    "\n",
    "# Normalized crosstab (percentages)\n",
    "print(\"\\nNormalized cross-tabulation (percentages):\")\n",
    "normalized_crosstab = pd.crosstab(df['Sex'], df['Survived'], normalize='index') * 100\n",
    "print(normalized_crosstab.round(1))"
   ]
  },
  {
   "cell_type": "markdown",
   "metadata": {},
   "source": [
    "### Pivot_table - Summarizing Data"
   ]
  },
  {
   "cell_type": "code",
   "execution_count": 34,
   "metadata": {},
   "outputs": [
    {
     "name": "stdout",
     "output_type": "stream",
     "text": [
      "Pivot table: Survival rate by class and gender:\n",
      "Sex     female   male\n",
      "Pclass               \n",
      "1        0.968  0.369\n",
      "2        0.921  0.157\n",
      "3        0.500  0.135\n",
      "\n",
      "Complex pivot table:\n",
      "          Age          Fare        Survived      \n",
      "Sex    female   male female   male   female  male\n",
      "Pclass                                           \n",
      "1       34.61  41.28  82.66  41.26     0.97  0.37\n",
      "2       28.72  30.74  22.00  13.00     0.92  0.16\n",
      "3       21.75  26.51  12.48   7.92     0.50  0.14\n"
     ]
    }
   ],
   "source": [
    "# Create pivot tables for analysis\n",
    "pivot_survival = pd.pivot_table(df, \n",
    "                               values='Survived', \n",
    "                               index='Pclass', \n",
    "                               columns='Sex', \n",
    "                               aggfunc='mean')\n",
    "print(\"Pivot table: Survival rate by class and gender:\")\n",
    "print(pivot_survival.round(3))\n",
    "\n",
    "# More complex pivot table\n",
    "pivot_complex = pd.pivot_table(df, \n",
    "                              values=['Survived', 'Age', 'Fare'], \n",
    "                              index='Pclass', \n",
    "                              columns='Sex', \n",
    "                              aggfunc={'Survived': 'mean', 'Age': 'mean', 'Fare': 'median'})\n",
    "print(\"\\nComplex pivot table:\")\n",
    "print(pivot_complex.round(2))"
   ]
  },
  {
   "cell_type": "markdown",
   "metadata": {},
   "source": [
    "### Cut and qcut - Binning Data"
   ]
  },
  {
   "cell_type": "code",
   "execution_count": null,
   "metadata": {},
   "outputs": [],
   "source": [
    "# Create age bins using cut (equal-width bins)\n",
    "df_copy['Age_Bins'] = pd.cut(df_copy['Age'], bins=5, labels=['Very Young', 'Young', 'Middle', 'Older', 'Senior'])\n",
    "print(\"Age bins distribution (equal-width):\")\n",
    "print(df_copy['Age_Bins'].value_counts())\n",
    "\n",
    "# Create fare quantiles using qcut (equal-frequency bins)\n",
    "df_copy['Fare_Quantiles'] = pd.qcut(df_copy['Fare'], q=4, labels=['Low', 'Medium-Low', 'Medium-High', 'High'])\n",
    "print(\"\\nFare quantiles distribution (equal-frequency):\")\n",
    "print(df_copy['Fare_Quantiles'].value_counts())\n",
    "\n",
    "# Analyze survival by fare quantiles\n",
    "print(\"\\nSurvival rate by fare quantiles:\")\n",
    "print(df_copy.groupby('Fare_Quantiles')['Survived'].mean().round(3))"
   ]
  },
  {
   "cell_type": "markdown",
   "metadata": {},
   "source": [
    "### Apply and Map - Custom Functions"
   ]
  },
  {
   "cell_type": "code",
   "execution_count": null,
   "metadata": {},
   "outputs": [],
   "source": [
    "# Extract titles from names using apply\n",
    "def extract_title(name):\n",
    "    return name.split(',')[1].split('.')[0].strip()\n",
    "\n",
    "df_copy['Title'] = df_copy['Name'].apply(extract_title)\n",
    "print(\"Titles extracted from names:\")\n",
    "print(df_copy['Title'].value_counts())\n",
    "\n",
    "# Map titles to broader categories\n",
    "title_mapping = {\n",
    "    'Mr': 'Mr',\n",
    "    'Mrs': 'Mrs',\n",
    "    'Miss': 'Miss',\n",
    "    'Master': 'Master',\n",
    "    'Dr': 'Officer',\n",
    "    'Rev': 'Officer',\n",
    "    'Col': 'Officer',\n",
    "    'Major': 'Officer',\n",
    "    'Mlle': 'Miss',\n",
    "    'Countess': 'Mrs',\n",
    "    'Ms': 'Miss',\n",
    "    'Lady': 'Mrs',\n",
    "    'Jonkheer': 'Officer',\n",
    "    'Don': 'Mr',\n",
    "    'Dona': 'Mrs',\n",
    "    'Mme': 'Mrs',\n",
    "    'Capt': 'Officer',\n",
    "    'Sir': 'Mr'\n",
    "}\n",
    "\n",
    "df_copy['Title_Group'] = df_copy['Title'].map(title_mapping)\n",
    "print(\"\\nGrouped titles:\")\n",
    "print(df_copy['Title_Group'].value_counts())\n",
    "\n",
    "print(\"\\nSurvival rate by title group:\")\n",
    "print(df_copy.groupby('Title_Group')['Survived'].mean().round(3))"
   ]
  },
  {
   "cell_type": "markdown",
   "metadata": {},
   "source": [
    "### String Methods - Text Processing"
   ]
  },
  {
   "cell_type": "code",
   "execution_count": null,
   "metadata": {},
   "outputs": [],
   "source": [
    "# Working with string data\n",
    "print(\"Names containing 'William':\")\n",
    "williams = df[df['Name'].str.contains('William', na=False)]\n",
    "print(williams[['Name', 'Age', 'Survived']])\n",
    "\n",
    "print(f\"\\nTotal passengers named William: {len(williams)}\")\n",
    "print(f\"Survival rate for Williams: {williams['Survived'].mean():.3f}\")\n",
    "\n",
    "# Extract cabin deck (first letter of cabin)\n",
    "df_copy['Cabin_Deck'] = df_copy['Cabin'].str[0]\n",
    "print(\"\\nCabin deck distribution:\")\n",
    "print(df_copy['Cabin_Deck'].value_counts(dropna=False))"
   ]
  },
  {
   "cell_type": "markdown",
   "metadata": {},
   "source": [
    "### Merge and Concat - Combining DataFrames"
   ]
  },
  {
   "cell_type": "code",
   "execution_count": null,
   "metadata": {},
   "outputs": [],
   "source": [
    "# Create separate dataframes for demonstration\n",
    "passengers_basic = df[['PassengerId', 'Name', 'Sex', 'Age']].head(5)\n",
    "passengers_travel = df[['PassengerId', 'Pclass', 'Fare', 'Embarked']].head(5)\n",
    "\n",
    "# Merge dataframes\n",
    "merged_data = pd.merge(passengers_basic, passengers_travel, on='PassengerId')\n",
    "print(\"Merged passenger data:\")\n",
    "print(merged_data)\n",
    "\n",
    "# Concatenate dataframes\n",
    "first_half = df.head(5)\n",
    "second_half = df.tail(5)\n",
    "concatenated = pd.concat([first_half, second_half], ignore_index=True)\n",
    "print(f\"\\nConcatenated dataframe shape: {concatenated.shape}\")\n",
    "print(\"First few rows of concatenated data:\")\n",
    "print(concatenated[['Name', 'Age', 'Survived']].head())"
   ]
  },
  {
   "cell_type": "markdown",
   "metadata": {},
   "source": [
    "## 9. Data Visualization with Pandas\n",
    "\n",
    "Pandas integrates well with matplotlib for quick visualizations."
   ]
  },
  {
   "cell_type": "code",
   "execution_count": null,
   "metadata": {},
   "outputs": [],
   "source": [
    "# Set up matplotlib\n",
    "plt.style.use('default')\n",
    "fig, axes = plt.subplots(2, 2, figsize=(15, 10))\n",
    "\n",
    "# Plot 1: Survival by class\n",
    "df.groupby('Pclass')['Survived'].mean().plot(kind='bar', ax=axes[0,0], title='Survival Rate by Class')\n",
    "axes[0,0].set_ylabel('Survival Rate')\n",
    "axes[0,0].set_xlabel('Passenger Class')\n",
    "\n",
    "# Plot 2: Age distribution\n",
    "df['Age'].hist(bins=30, ax=axes[0,1], title='Age Distribution')\n",
    "axes[0,1].set_xlabel('Age')\n",
    "axes[0,1].set_ylabel('Frequency')\n",
    "\n",
    "# Plot 3: Fare distribution by class\n",
    "df.boxplot(column='Fare', by='Pclass', ax=axes[1,0])\n",
    "axes[1,0].set_title('Fare Distribution by Class')\n",
    "axes[1,0].set_xlabel('Passenger Class')\n",
    "\n",
    "# Plot 4: Survival by gender\n",
    "survival_by_gender = df.groupby('Sex')['Survived'].mean()\n",
    "survival_by_gender.plot(kind='pie', ax=axes[1,1], title='Survival Rate by Gender', autopct='%1.1f%%')\n",
    "\n",
    "plt.tight_layout()\n",
    "plt.show()\n",
    "\n",
    "print(\"Visualizations created successfully!\")"
   ]
  },
  {
   "cell_type": "markdown",
   "metadata": {},
   "source": [
    "## 10. Summary and Key Insights\n",
    "\n",
    "Let's summarize our analysis with key findings about the Titanic dataset."
   ]
  },
  {
   "cell_type": "code",
   "execution_count": null,
   "metadata": {},
   "outputs": [],
   "source": [
    "# Final summary statistics\n",
    "print(\"=== TITANIC DATASET ANALYSIS SUMMARY ===\")\n",
    "print(f\"\\nTotal passengers: {len(df)}\")\n",
    "print(f\"Overall survival rate: {df['Survived'].mean():.1%}\")\n",
    "\n",
    "print(\"\\n1. Survival by Gender:\")\n",
    "gender_survival = df.groupby('Sex')['Survived'].agg(['count', 'sum', 'mean'])\n",
    "gender_survival.columns = ['Total', 'Survivors', 'Survival_Rate']\n",
    "print(gender_survival)\n",
    "\n",
    "print(\"\\n2. Survival by Class:\")\n",
    "class_survival = df.groupby('Pclass')['Survived'].agg(['count', 'sum', 'mean'])\n",
    "class_survival.columns = ['Total', 'Survivors', 'Survival_Rate']\n",
    "print(class_survival)\n",
    "\n",
    "print(\"\\n3. Age Statistics by Survival:\")\n",
    "age_by_survival = df.groupby('Survived')['Age'].agg(['count', 'mean', 'median', 'std'])\n",
    "age_by_survival.index = ['Died', 'Survived']\n",
    "print(age_by_survival.round(2))\n",
    "\n",
    "print(\"\\n4. Key Insights:\")\n",
    "print(\"   • Women had a much higher survival rate than men\")\n",
    "print(\"   • First-class passengers had the highest survival rate\")\n",
    "print(\"   • Children (based on titles like 'Master') had good survival chances\")\n",
    "print(\"   • Higher fare generally correlated with better survival chances\")\n",
    "print(\"\\n=== END OF ANALYSIS ===\")"
   ]
  },
  {
   "cell_type": "markdown",
   "metadata": {},
   "source": [
    "## Conclusion\n",
    "\n",
    "This notebook demonstrated essential pandas methods using the Titanic dataset:\n",
    "\n",
    "- **`groupby()`**: Powerful for aggregating data by categories\n",
    "- **`query()`**: Intuitive filtering with string expressions\n",
    "- **`agg()`**: Applying multiple aggregation functions\n",
    "- **`sort_values()`**: Sorting data by one or multiple columns\n",
    "- **`iloc`**: Integer-based indexing for position-based selection\n",
    "- **`loc`**: Label-based indexing for condition-based selection\n",
    "- **Additional methods**: `value_counts()`, `crosstab()`, `pivot_table()`, `cut()`, `qcut()`, `apply()`, `map()`, string methods, and more\n",
    "\n",
    "These methods form the foundation of data analysis with pandas and can be combined in countless ways to extract insights from your data. The Titanic dataset provided an excellent real-world example to practice these techniques.\n",
    "\n",
    "### Next Steps:\n",
    "1. Try applying these methods to your own datasets\n",
    "2. Experiment with combining different methods\n",
    "3. Explore more advanced pandas functionality like `resample()`, `rolling()`, and `groupby().transform()`\n",
    "4. Practice with time series data and multi-index dataframes"
   ]
  }
 ],
 "metadata": {
  "kernelspec": {
   "display_name": "venv",
   "language": "python",
   "name": "python3"
  },
  "language_info": {
   "codemirror_mode": {
    "name": "ipython",
    "version": 3
   },
   "file_extension": ".py",
   "mimetype": "text/x-python",
   "name": "python",
   "nbconvert_exporter": "python",
   "pygments_lexer": "ipython3",
   "version": "3.10.6"
  }
 },
 "nbformat": 4,
 "nbformat_minor": 4
}
